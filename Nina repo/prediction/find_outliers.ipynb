{
 "cells": [
  {
   "cell_type": "code",
   "execution_count": 1,
   "id": "initial_id",
   "metadata": {
    "collapsed": true,
    "ExecuteTime": {
     "end_time": "2023-12-31T11:51:15.380996300Z",
     "start_time": "2023-12-31T11:51:13.604680Z"
    }
   },
   "outputs": [],
   "source": [
    "import numpy as np\n",
    "import torch\n",
    "import json\n",
    "import os\n"
   ]
  },
  {
   "cell_type": "code",
   "execution_count": 2,
   "outputs": [],
   "source": [
    "exp_folder = \"kfold_mixup_exp_01\"\n",
    "exp_path = os.path.join(os.getcwd(), exp_folder)\n",
    "\n",
    "ids = []\n",
    "is_fem = []\n",
    "ys = []\n",
    "logits = []\n",
    "for folder in os.listdir(exp_path):\n",
    "    with open(os.path.join(exp_path, folder, \"meta.json\")) as f:\n",
    "        data = json.load(f)\n",
    "        # ids.append(data[\"ids\"])\n",
    "        # is_fem.append(data[\"is_fem\"])\n",
    "        # ys.append(data[\"ys\"])\n",
    "        # logits.append(data[\"forward_logits\"])\n",
    "        # \n",
    "        ids += (data[\"ids\"])\n",
    "        is_fem += (data[\"is_fem\"])\n",
    "        ys += (data[\"ys\"])\n",
    "        logits += (data[\"forward_logits\"])\n",
    "        \n"
   ],
   "metadata": {
    "collapsed": false,
    "ExecuteTime": {
     "end_time": "2023-12-31T11:51:15.397127200Z",
     "start_time": "2023-12-31T11:51:15.384323800Z"
    }
   },
   "id": "5a33829b797afe43"
  },
  {
   "cell_type": "code",
   "execution_count": 3,
   "outputs": [
    {
     "name": "stdout",
     "output_type": "stream",
     "text": [
      "(8458,) (8458,)\n"
     ]
    }
   ],
   "source": [
    "ys_arr = np.asarray(ys).squeeze().astype(bool)\n",
    "is_fem_arr = np.asarray(is_fem).squeeze().astype(bool)\n",
    "logits_arr = np.asarray(logits).squeeze()\n",
    "\n",
    "def sigmoid(x):\n",
    "    return  1./(1. + np.exp(-x)) \n",
    "\n",
    "print(ys_arr.shape, logits_arr.shape)"
   ],
   "metadata": {
    "collapsed": false,
    "ExecuteTime": {
     "end_time": "2023-12-31T11:51:15.415181200Z",
     "start_time": "2023-12-31T11:51:15.398112400Z"
    }
   },
   "id": "722dcbaf6637c1a2"
  },
  {
   "cell_type": "code",
   "execution_count": 4,
   "outputs": [
    {
     "name": "stdout",
     "output_type": "stream",
     "text": [
      "self conf positiv (patient has disease) class: 0.3582618398562962 \n",
      "self conf negativ (patient does not) class: 0.9216680489250791\n"
     ]
    }
   ],
   "source": [
    "pred_prob_class0 = 1.0-sigmoid(logits_arr)\n",
    "pred_prob_class1 = sigmoid(logits_arr)\n",
    "\n",
    "self_conf_class0 = np.mean(pred_prob_class0[~ys_arr])\n",
    "self_conf_class1 = np.mean(pred_prob_class1[ys_arr])\n",
    "\n",
    "print(\n",
    "    \"self conf positiv (patient has disease) class:\", self_conf_class1,\n",
    "    \"\\nself conf negativ (patient does not) class:\", self_conf_class0\n",
    ")"
   ],
   "metadata": {
    "collapsed": false,
    "ExecuteTime": {
     "end_time": "2023-12-31T11:51:15.428188600Z",
     "start_time": "2023-12-31T11:51:15.420695700Z"
    }
   },
   "id": "954c098ab3ce1ce6"
  },
  {
   "cell_type": "code",
   "execution_count": 5,
   "outputs": [
    {
     "name": "stdout",
     "output_type": "stream",
     "text": [
      "0.007281553398058253\n",
      "0.9909271687795178\n"
     ]
    }
   ],
   "source": [
    "# for every image whos given label is class i, is the predicted probability for the given \n",
    "# label being class j greater than the class j threshold. if so we add it to the counts\n",
    "# matrix as the given label is class i but should have been class j.\n",
    "\n",
    "print(np.mean(pred_prob_class1[ys_arr] > self_conf_class0))\n",
    "print(np.mean(pred_prob_class0[~ys_arr] > self_conf_class1))\n"
   ],
   "metadata": {
    "collapsed": false,
    "ExecuteTime": {
     "end_time": "2023-12-31T11:51:15.463533100Z",
     "start_time": "2023-12-31T11:51:15.432392500Z"
    }
   },
   "id": "11136bfb5ab8660c"
  },
  {
   "cell_type": "code",
   "execution_count": 7,
   "outputs": [
    {
     "name": "stdout",
     "output_type": "stream",
     "text": [
      "combined\n",
      " (array([[8046.,  168.],\n",
      "       [   0.,  244.]]), [3, 164, 4315, 80, 4253, 16, 4366, 71, 223, 4377, 4278, 171, 36, 91, 4290, 4230, 167, 55, 4390, 204, 4284, 4274, 176, 211, 67, 4273, 41, 4240, 157, 95, 98, 175, 4245, 4401, 4330, 114, 163, 199, 4405, 173, 181, 135, 136, 182, 4376, 88, 4393, 4238, 24, 4317, 162, 200, 105, 4370, 4355, 168, 63, 4280, 192, 187, 212, 2, 126, 99, 4334, 4367, 35, 215, 4322, 4395, 62, 148, 147, 21, 58, 156, 22, 230, 128, 4316, 4259, 29, 207, 37, 170, 46, 166, 4241, 4251, 100, 195, 56, 33, 185, 4321, 228, 178, 214, 4406, 227, 4359, 34, 107, 4308, 4270, 201, 133, 4297, 5, 4347, 4309, 84, 43, 26, 4398, 68, 12, 4256, 4279, 4323, 4380, 4319, 4264, 15, 79, 4277, 51, 81, 28, 4295, 4266, 102, 4328, 27, 154, 4231, 4294, 87, 4336, 61, 125, 90, 103, 13, 4344, 142, 4282, 174, 131, 117, 198, 4304, 110, 4285, 172, 39, 4354, 129, 108, 121, 4384, 124, 60, 123, 53, 179, 4265, 218])\n",
      "male\n",
      " (array([[4051.,   60.],\n",
      "       [   0.,  118.]]), [164, 7341, 8211, 5696, 6529, 5114, 7734, 6596, 2473, 7373, 7567, 6035, 6756, 5918, 5426, 6904, 237, 3338, 748, 3805, 7667, 7858, 6564, 5799, 2601, 1215, 5842, 6747, 5966, 2566, 4717, 7610, 5485, 2763, 8273, 8261, 1263, 2686, 1938, 770, 1418, 2830, 1051, 3490, 5208, 500, 894, 4527, 5214, 2908, 6183, 7696, 5902, 1436, 7840, 574, 7484, 1609, 1791, 5687])\n",
      "female\n",
      " (array([[3995.,  108.],\n",
      "       [   0.,  126.]]), [715, 3362, 8279, 4875, 2999, 8211, 7939, 5376, 5312, 8331, 6425, 3072, 2504, 1809, 6452, 5071, 4313, 5803, 6344, 3190, 55, 204, 6019, 5751, 4827, 206, 3038, 2928, 7796, 2204, 6652, 5348, 7226, 67, 1553, 2922, 345, 495, 4836, 6862, 5794, 801, 6375, 3760, 2843, 5574, 7870, 5115, 307, 317, 7642, 6272, 5923, 3724, 6639, 3061, 4317, 105, 6726, 2856, 6966, 2165, 7182, 187, 1102, 3712, 3317, 1793, 8273, 8249, 118, 4172, 6287, 7351, 7657, 4974, 7112, 7511, 5588, 2557, 6914, 4527, 6039, 2148, 5908, 1232, 1800, 1445, 2237, 705, 1686, 4259, 4105, 4739, 7306, 2603, 3202, 7685, 4509, 905, 3464, 4834, 8167, 5922, 4320, 4733, 37, 7035])\n"
     ]
    }
   ],
   "source": [
    "# for every image whos given label is class i, is the predicted probability for the given \n",
    "# label being class j greater than the class j threshold. if so we add it to the counts\n",
    "# matrix as the given label is class i but should have been class j.\n",
    "\n",
    "def find_C(pred_prob_class0, pred_prob_class1, ys_arr, ids, filter = None, s=0.2):\n",
    "    if filter is not None:\n",
    "        pred_prob_class0 = pred_prob_class0[filter]\n",
    "        pred_prob_class1 = pred_prob_class1[filter]\n",
    "        ys_arr = ys_arr[filter]\n",
    "        \n",
    "    C = np.zeros((2,2))\n",
    "    outliers = []\n",
    "    for pred0, pred1, label, id in zip(pred_prob_class0, pred_prob_class1, ys_arr, ids):\n",
    "        if label == 1:\n",
    "            if self_conf_class0*s > pred1:\n",
    "                C[0,1] += 1\n",
    "                outliers.append(id)\n",
    "            else:\n",
    "                C[1,1] += 1\n",
    "              \n",
    "        elif label == 0:\n",
    "            if self_conf_class1*s > pred0:\n",
    "                C[1,0] += 1\n",
    "                outliers.append(id)\n",
    "            else:\n",
    "                C[0,0] += 1\n",
    "             \n",
    "    return C, outliers\n",
    "\n",
    "print(\"combined\\n\", find_C(pred_prob_class0, pred_prob_class1, ys_arr, ids))\n",
    "print(\"male\\n\", find_C(pred_prob_class0, pred_prob_class1, ys_arr, ids, filter=~is_fem_arr))\n",
    "print(\"female\\n\", find_C(pred_prob_class0, pred_prob_class1, ys_arr, ids, filter=is_fem_arr))\n",
    "\n"
   ],
   "metadata": {
    "collapsed": false,
    "ExecuteTime": {
     "end_time": "2023-12-31T11:52:18.677437100Z",
     "start_time": "2023-12-31T11:52:18.611810700Z"
    }
   },
   "id": "5dbaa33dab0f890a"
  }
 ],
 "metadata": {
  "kernelspec": {
   "display_name": "Python 3",
   "language": "python",
   "name": "python3"
  },
  "language_info": {
   "codemirror_mode": {
    "name": "ipython",
    "version": 2
   },
   "file_extension": ".py",
   "mimetype": "text/x-python",
   "name": "python",
   "nbconvert_exporter": "python",
   "pygments_lexer": "ipython2",
   "version": "2.7.6"
  }
 },
 "nbformat": 4,
 "nbformat_minor": 5
}
